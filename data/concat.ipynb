{
 "cells": [
  {
   "cell_type": "code",
   "execution_count": 4,
   "id": "6f3bfbdb",
   "metadata": {},
   "outputs": [],
   "source": [
    "import pandas as pd\n",
    "import numpy as np\n",
    "import os"
   ]
  },
  {
   "cell_type": "code",
   "execution_count": 9,
   "id": "5c97a764",
   "metadata": {},
   "outputs": [
    {
     "data": {
      "text/plain": [
       "['phase_I_test.csv',\n",
       " 'NCT00000378.xml',\n",
       " 'icdcode2ancestor_dict.pkl',\n",
       " 'phase_I_valid.csv',\n",
       " 'sponsor2approvalrate.csv',\n",
       " 'toy_test.csv',\n",
       " 'toy_train.csv',\n",
       " 'phase_III_train.csv',\n",
       " 'phase_II_valid.csv',\n",
       " 'README.md',\n",
       " 'phase_III_test.csv',\n",
       " 'raw_data.csv',\n",
       " 'drugbank_mini.csv',\n",
       " 'phase_II_train.csv',\n",
       " 'sponsor2count.csv',\n",
       " 'toy_valid.csv',\n",
       " 'sentence2embedding.pkl',\n",
       " 'phase_III_valid.csv',\n",
       " 'phase_II_test.csv',\n",
       " 'ADMET',\n",
       " 'concat.ipynb',\n",
       " 'phase_I_train.csv']"
      ]
     },
     "execution_count": 9,
     "metadata": {},
     "output_type": "execute_result"
    }
   ],
   "source": [
    "os.listdir()"
   ]
  },
  {
   "cell_type": "code",
   "execution_count": 10,
   "id": "b6c44d7c",
   "metadata": {},
   "outputs": [],
   "source": [
    "phase_test_files = [file for file in os.listdir() if file.startswith(\"phase\") and file.endswith(\"test.csv\")]\n",
    "phase_train_files = [file for file in os.listdir() if file.startswith(\"phase\") and file.endswith(\"train.csv\")]\n",
    "phase_valid_files = [file for file in os.listdir() if file.startswith(\"phase\") and file.endswith(\"valid.csv\")]\n"
   ]
  },
  {
   "cell_type": "code",
   "execution_count": 19,
   "id": "75f8ad92",
   "metadata": {},
   "outputs": [
    {
     "data": {
      "text/plain": [
       "(3427, 12)"
      ]
     },
     "execution_count": 19,
     "metadata": {},
     "output_type": "execute_result"
    }
   ],
   "source": [
    "all_phase_test = []\n",
    "for file in phase_test_files:\n",
    "    df = pd.read_csv(file)\n",
    "    if file.startswith(\"phase_I\"):\n",
    "        df['phase_I'] = 1\n",
    "        df['phase_II'] = 0\n",
    "    elif file.startswith(\"phase_II\"):\n",
    "        df['phase_I'] = 0\n",
    "        df['phase_II'] = 1\n",
    "    else:\n",
    "        df['phase_I'] = 0\n",
    "        df['phase_II'] = 0 \n",
    "\n",
    "    all_phase_test.append(df)\n",
    "all_phase_test = pd.concat(all_phase_test, ignore_index=True)\n",
    "all_phase_test.shape"
   ]
  },
  {
   "cell_type": "code",
   "execution_count": 20,
   "id": "8732ee25",
   "metadata": {},
   "outputs": [
    {
     "data": {
      "text/plain": [
       "(8143, 12)"
      ]
     },
     "execution_count": 20,
     "metadata": {},
     "output_type": "execute_result"
    }
   ],
   "source": [
    "all_phase_train = []\n",
    "for file in phase_train_files:\n",
    "    df = pd.read_csv(file)\n",
    "    if file.startswith(\"phase_I\"):\n",
    "        df['phase_I'] = 1\n",
    "        df['phase_II'] = 0\n",
    "    elif file.startswith(\"phase_II\"):\n",
    "        df['phase_I'] = 0\n",
    "        df['phase_II'] = 1\n",
    "    else:\n",
    "        df['phase_I'] = 0\n",
    "        df['phase_II'] = 0 \n",
    "\n",
    "    all_phase_train.append(df)\n",
    "all_phase_train = pd.concat(all_phase_train, ignore_index=True)\n",
    "all_phase_train.shape"
   ]
  },
  {
   "cell_type": "code",
   "execution_count": 22,
   "id": "3de0fb4c",
   "metadata": {},
   "outputs": [
    {
     "data": {
      "text/plain": [
       "(907, 12)"
      ]
     },
     "execution_count": 22,
     "metadata": {},
     "output_type": "execute_result"
    }
   ],
   "source": [
    "all_phase_valid = []\n",
    "for file in phase_valid_files:\n",
    "    df = pd.read_csv(file)\n",
    "    if file.startswith(\"phase_I\"):\n",
    "        df['phase_I'] = 1\n",
    "        df['phase_II'] = 0\n",
    "    elif file.startswith(\"phase_II\"):\n",
    "        df['phase_I'] = 0\n",
    "        df['phase_II'] = 1\n",
    "    else:\n",
    "        df['phase_I'] = 0\n",
    "        df['phase_II'] = 0 \n",
    "\n",
    "    all_phase_valid.append(df)\n",
    "all_phase_valid = pd.concat(all_phase_valid, ignore_index=True)\n",
    "all_phase_valid.shape"
   ]
  },
  {
   "cell_type": "code",
   "execution_count": 27,
   "id": "42887759",
   "metadata": {},
   "outputs": [],
   "source": [
    "all_phase_test.to_csv(\"all_phase_test.csv\", index=False)\n",
    "all_phase_train.to_csv(\"all_phase_train.csv\", index=False)\n",
    "all_phase_valid.to_csv(\"all_phase_valid.csv\", index=False)"
   ]
  },
  {
   "cell_type": "code",
   "execution_count": null,
   "id": "b905b33e",
   "metadata": {},
   "outputs": [],
   "source": []
  }
 ],
 "metadata": {
  "kernelspec": {
   "display_name": "predict_drug_clinical_trial",
   "language": "python",
   "name": "python3"
  },
  "language_info": {
   "codemirror_mode": {
    "name": "ipython",
    "version": 3
   },
   "file_extension": ".py",
   "mimetype": "text/x-python",
   "name": "python",
   "nbconvert_exporter": "python",
   "pygments_lexer": "ipython3",
   "version": "3.13.2"
  }
 },
 "nbformat": 4,
 "nbformat_minor": 5
}
