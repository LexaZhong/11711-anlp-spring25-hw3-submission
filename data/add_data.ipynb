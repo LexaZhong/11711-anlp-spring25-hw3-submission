{
 "cells": [
  {
   "cell_type": "code",
   "execution_count": 13,
   "id": "a53b8e49",
   "metadata": {},
   "outputs": [],
   "source": [
    "import json\n",
    "import os\n",
    "import re\n",
    "\n",
    "import pandas as pd\n",
    "from tqdm import tqdm\n",
    "import requests"
   ]
  },
  {
   "cell_type": "code",
   "execution_count": 14,
   "id": "79834415",
   "metadata": {},
   "outputs": [],
   "source": [
    "CTG_API = \"https://clinicaltrials.gov/api/v2/studies/\""
   ]
  },
  {
   "cell_type": "code",
   "execution_count": 15,
   "id": "ea47719c",
   "metadata": {},
   "outputs": [],
   "source": [
    "ctg_folder = '/Users/xx/Documents/Repositories/biogen-capstone/raw_data/ctg-studies.json'"
   ]
  },
  {
   "cell_type": "code",
   "execution_count": 16,
   "id": "a82eab33",
   "metadata": {},
   "outputs": [
    {
     "data": {
      "text/plain": [
       "['phase_I_test.csv',\n",
       " 'phase_I_valid.csv',\n",
       " 'phase_III_train.csv',\n",
       " 'phase_II_valid.csv',\n",
       " 'phase_III_test.csv',\n",
       " 'phase_II_train.csv',\n",
       " 'phase_III_valid.csv',\n",
       " 'phase_II_test.csv',\n",
       " 'phase_I_train.csv']"
      ]
     },
     "execution_count": 16,
     "metadata": {},
     "output_type": "execute_result"
    }
   ],
   "source": [
    "pre_files = [filename for filename in os.listdir()\n",
    "             if re.match(r'^phase.+\\.csv$', filename)]\n",
    "pre_files"
   ]
  },
  {
   "cell_type": "code",
   "execution_count": 17,
   "id": "023b4145",
   "metadata": {},
   "outputs": [],
   "source": [
    "id_col = 'nctid'"
   ]
  },
  {
   "cell_type": "code",
   "execution_count": 22,
   "id": "f9b5dc07",
   "metadata": {},
   "outputs": [
    {
     "data": {
      "text/plain": [
       "{'nctid': 'NCT01288573',\n",
       " 'measures': 'Measure 1:\\nProportion of patients achieving at least a doubling of peripheral blood CD34+ count during Stage 2\\nUp to 5 days',\n",
       " 'design': 'Allocation: RANDOMIZED\\nIntervention: PARALLEL\\nPrimary purpose: TREATMENT'}"
      ]
     },
     "execution_count": 22,
     "metadata": {},
     "output_type": "execute_result"
    }
   ],
   "source": [
    "def get_protocol(id: str) -> dict[str, str]:\n",
    "    filepath = os.path.join(ctg_folder, f'{id}.json')\n",
    "    if os.path.exists(filepath):  # Load from local file\n",
    "        with open(filepath, 'r') as f:\n",
    "            data = json.load(f)\n",
    "    else:  # Retrive via API\n",
    "        response = requests.get(CTG_API + id)\n",
    "        if response.status_code == 200:\n",
    "            data = response.json()\n",
    "        else:\n",
    "            print(f\"{response.status_code} response for {id}\")\n",
    "\n",
    "    data = data['protocolSection']\n",
    "    protocol = {\n",
    "        id_col: id,\n",
    "        'measures': get_measures(data),\n",
    "        'design': get_design(data),\n",
    "    }\n",
    "    return protocol\n",
    "\n",
    "\n",
    "def get_measures(data: dict) -> str:\n",
    "    try:\n",
    "        measure_list = data['outcomesModule']['primaryOutcomes']\n",
    "        measure_text_list = [f\"Measure {i+1}:\\n{'\\n'.join(measure.values())}\"\n",
    "                             for i, measure in enumerate(measure_list)]\n",
    "        measures = '\\n\\n'.join(measure_text_list)\n",
    "    except:\n",
    "        measures = ''\n",
    "    return measures\n",
    "\n",
    "\n",
    "def get_design(data: dict) -> str:\n",
    "    design = ''\n",
    "    try:\n",
    "        design_info = data['designModule']['designInfo']\n",
    "    except:\n",
    "        return design\n",
    "\n",
    "    try:\n",
    "        design += f\"Allocation: {design_info['allocation']}\\n\"\n",
    "    except:\n",
    "        pass\n",
    "\n",
    "    try:\n",
    "        design += f\"Intervention: {design_info['interventionModel']}\\n\"\n",
    "    except:\n",
    "        pass\n",
    "\n",
    "    try:\n",
    "        design += f\"Primary purpose: {design_info['primaryPurpose']}\\n\"\n",
    "    except:\n",
    "        pass\n",
    "\n",
    "    try:\n",
    "        design += f\"\"\"\\\n",
    "{design_info['maskingInfo']['masking']} masking: \\\n",
    "{' '.join(design_info['maskingInfo']['whoMasked'])}\\n\n",
    "\"\"\"\n",
    "    except:\n",
    "        pass\n",
    "    return design.strip()\n",
    "\n",
    "\n",
    "def get_description(data: dict) -> str:\n",
    "    try:\n",
    "        description = data['descriptionModule']['detailedDescription']\n",
    "    except:\n",
    "        description = ''\n",
    "    return description\n",
    "\n",
    "\n",
    "get_protocol('NCT01288573')"
   ]
  },
  {
   "cell_type": "code",
   "execution_count": null,
   "id": "4c930ded",
   "metadata": {},
   "outputs": [
    {
     "name": "stderr",
     "output_type": "stream",
     "text": [
      "phase_I_test.csv: 100%|██████████| 627/627 [00:00<00:00, 2235.79it/s]\n",
      "phase_I_valid.csv: 100%|██████████| 117/117 [00:01<00:00, 65.57it/s]\n",
      "phase_III_train.csv: 100%|██████████| 3094/3094 [01:23<00:00, 37.20it/s]\n",
      "phase_II_valid.csv: 100%|██████████| 446/446 [00:08<00:00, 51.02it/s]\n",
      "phase_III_test.csv: 100%|██████████| 1146/1146 [00:01<00:00, 1058.96it/s]\n",
      "phase_II_train.csv: 100%|██████████| 4005/4005 [01:29<00:00, 44.53it/s] \n",
      "phase_III_valid.csv: 100%|██████████| 344/344 [00:08<00:00, 42.02it/s]\n",
      "phase_II_test.csv: 100%|██████████| 1654/1654 [00:01<00:00, 1222.29it/s]\n",
      "phase_I_train.csv: 100%|██████████| 1044/1044 [00:13<00:00, 74.61it/s] \n"
     ]
    }
   ],
   "source": [
    "for pre_file in pre_files:\n",
    "    protocols = []\n",
    "    df = pd.read_csv(pre_file).set_index(id_col)\n",
    "    for nct_id in tqdm(df.index, desc=pre_file):\n",
    "        protocols.append(get_protocol(nct_id))\n",
    "    protocol_df = pd.DataFrame(protocols).set_index(id_col)\n",
    "    re_df = df.join(protocol_df)\n",
    "    re_df.to_csv(f're_{pre_file}')"
   ]
  },
  {
   "cell_type": "code",
   "execution_count": null,
   "id": "7bb79ae2",
   "metadata": {},
   "outputs": [],
   "source": []
  }
 ],
 "metadata": {
  "kernelspec": {
   "display_name": "ds",
   "language": "python",
   "name": "python3"
  },
  "language_info": {
   "codemirror_mode": {
    "name": "ipython",
    "version": 3
   },
   "file_extension": ".py",
   "mimetype": "text/x-python",
   "name": "python",
   "nbconvert_exporter": "python",
   "pygments_lexer": "ipython3",
   "version": "3.13.2"
  }
 },
 "nbformat": 4,
 "nbformat_minor": 5
}
